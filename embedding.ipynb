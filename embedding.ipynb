{
 "cells": [
  {
   "cell_type": "code",
   "execution_count": null,
   "metadata": {
    "scrolled": true
   },
   "outputs": [],
   "source": [
    "import glob\n",
    "import pandas as pd\n",
    "traindf = pd.DataFrame(columns=[\"content\", \"sentiment\"])\n",
    "for fn in glob.glob(\"aclImdb/train/pos/*.txt\"):\n",
    "    f = open(fn, encoding=\"utf-8\")\n",
    "    article = f.read()\n",
    "    f.close()\n",
    "    s = pd.Series([article, 1], index=[\"content\", \"sentiment\"])\n",
    "    traindf = traindf.append(s, ignore_index=True)\n",
    "for fn in glob.glob(\"aclImdb/train/neg/*.txt\"):\n",
    "    f = open(fn, encoding=\"utf-8\")\n",
    "    article = f.read()\n",
    "    f.close()\n",
    "    s = pd.Series([article, 0], index=[\"content\", \"sentiment\"])\n",
    "    traindf = traindf.append(s, ignore_index=True)\n",
    "traindf"
   ]
  },
  {
   "cell_type": "code",
   "execution_count": null,
   "metadata": {},
   "outputs": [],
   "source": [
    "testdf = pd.DataFrame(columns=[\"content\", \"sentiment\"])\n",
    "for fn in glob.glob(\"aclImdb/test/pos/*.txt\"):\n",
    "    f = open(fn, encoding=\"utf-8\")\n",
    "    article = f.read()\n",
    "    f.close()\n",
    "    s = pd.Series([article, 1], index=[\"content\", \"sentiment\"])\n",
    "    testdf = testdf.append(s, ignore_index=True)\n",
    "for fn in glob.glob(\"aclImdb/test/neg/*.txt\"):\n",
    "    f = open(fn, encoding=\"utf-8\")\n",
    "    article = f.read()\n",
    "    f.close()\n",
    "    s = pd.Series([article, 0], index=[\"content\", \"sentiment\"])\n",
    "    testdf = testdf.append(s, ignore_index=True)\n",
    "testdf"
   ]
  }
 ],
 "metadata": {
  "kernelspec": {
   "display_name": "Python 3",
   "language": "python",
   "name": "python3"
  },
  "language_info": {
   "codemirror_mode": {
    "name": "ipython",
    "version": 3
   },
   "file_extension": ".py",
   "mimetype": "text/x-python",
   "name": "python",
   "nbconvert_exporter": "python",
   "pygments_lexer": "ipython3",
   "version": "3.6.2"
  }
 },
 "nbformat": 4,
 "nbformat_minor": 1
}
